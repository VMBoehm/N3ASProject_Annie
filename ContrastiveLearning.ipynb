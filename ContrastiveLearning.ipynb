{
  "cells": [
    {
      "cell_type": "markdown",
      "metadata": {
        "id": "view-in-github",
        "colab_type": "text"
      },
      "source": [
        "<a href=\"https://colab.research.google.com/github/VMBoehm/N3ASProject_Annie/blob/main/ContrastiveLearning.ipynb\" target=\"_parent\"><img src=\"https://colab.research.google.com/assets/colab-badge.svg\" alt=\"Open In Colab\"/></a>"
      ]
    },
    {
      "cell_type": "markdown",
      "id": "7dd500ab-a47b-4225-af44-4c748a82b0b2",
      "metadata": {
        "id": "7dd500ab-a47b-4225-af44-4c748a82b0b2"
      },
      "source": [
        "# Contrastive Learning Code"
      ]
    },
    {
      "cell_type": "code",
      "source": [
        "!pip install git+https://github.com/VMBoehm/PytorchPAE.git@4Annie"
      ],
      "metadata": {
        "colab": {
          "base_uri": "https://localhost:8080/"
        },
        "id": "2tH_X5KOwtxs",
        "outputId": "3f951cdf-d888-45e3-c41f-5ae86319a34c"
      },
      "id": "2tH_X5KOwtxs",
      "execution_count": 1,
      "outputs": [
        {
          "output_type": "stream",
          "name": "stdout",
          "text": [
            "Looking in indexes: https://pypi.org/simple, https://us-python.pkg.dev/colab-wheels/public/simple/\n",
            "Collecting git+https://github.com/VMBoehm/PytorchPAE.git@4Annie\n",
            "  Cloning https://github.com/VMBoehm/PytorchPAE.git (to revision 4Annie) to /tmp/pip-req-build-9wsxwoyn\n",
            "  Running command git clone -q https://github.com/VMBoehm/PytorchPAE.git /tmp/pip-req-build-9wsxwoyn\n",
            "  Running command git checkout -b 4Annie --track origin/4Annie\n",
            "  Switched to a new branch '4Annie'\n",
            "  Branch '4Annie' set up to track remote branch '4Annie' from 'origin'.\n",
            "Building wheels for collected packages: pytorch-pae\n",
            "  Building wheel for pytorch-pae (setup.py) ... \u001b[?25l\u001b[?25hdone\n",
            "  Created wheel for pytorch-pae: filename=pytorch_pae-0.1.dev38+g4a13ed9-py3-none-any.whl size=14108 sha256=152035ee6a9f823e20c384648d0be3a2d887c6c7fe211a5334b8a13eff1ddbc8\n",
            "  Stored in directory: /tmp/pip-ephem-wheel-cache-4v99xy8_/wheels/78/cc/78/d3a54eac541cbd419347e36d065b35fb9a9740d1a9507e2b60\n",
            "Successfully built pytorch-pae\n",
            "Installing collected packages: pytorch-pae\n",
            "Successfully installed pytorch-pae-0.1.dev38+g4a13ed9\n"
          ]
        }
      ]
    },
    {
      "cell_type": "code",
      "execution_count": 2,
      "id": "57627e3d-f9b1-4b56-b835-b207442b9e68",
      "metadata": {
        "id": "57627e3d-f9b1-4b56-b835-b207442b9e68"
      },
      "outputs": [],
      "source": [
        "# import this package \n",
        "from pytorch_pae import AE\n",
        "from pytorch_pae import custom_transforms as ct\n",
        "from pytorch_pae.data_loader import *"
      ]
    },
    {
      "cell_type": "code",
      "execution_count": 3,
      "id": "f85a4793-bb5e-4c4a-949f-73d44977f092",
      "metadata": {
        "id": "f85a4793-bb5e-4c4a-949f-73d44977f092"
      },
      "outputs": [],
      "source": [
        "import numpy as np\n",
        "import matplotlib.pyplot as plt\n",
        "import os"
      ]
    },
    {
      "cell_type": "code",
      "execution_count": 4,
      "id": "29c0269c-d6b5-4d72-835e-b9c5ab0cab03",
      "metadata": {
        "colab": {
          "base_uri": "https://localhost:8080/"
        },
        "id": "29c0269c-d6b5-4d72-835e-b9c5ab0cab03",
        "outputId": "08ad0b58-4ab2-4f9a-9c6d-5f444a8a7fd6"
      },
      "outputs": [
        {
          "output_type": "stream",
          "name": "stdout",
          "text": [
            "1.11.0+cu113\n"
          ]
        }
      ],
      "source": [
        "# import pytorch\n",
        "import torch\n",
        "print(torch.__version__)"
      ]
    },
    {
      "cell_type": "code",
      "source": [
        "from google.colab import drive\n",
        "import os\n",
        "drive.mount('/content/drive/')"
      ],
      "metadata": {
        "colab": {
          "base_uri": "https://localhost:8080/"
        },
        "id": "jpchPeFU22_x",
        "outputId": "022c8609-0cc3-4e83-d504-57c9c9448e26"
      },
      "id": "jpchPeFU22_x",
      "execution_count": 5,
      "outputs": [
        {
          "output_type": "stream",
          "name": "stdout",
          "text": [
            "Mounted at /content/drive/\n"
          ]
        }
      ]
    },
    {
      "cell_type": "code",
      "execution_count": 6,
      "id": "706abcb9-97ed-4051-a9e8-48cf2443833f",
      "metadata": {
        "id": "706abcb9-97ed-4051-a9e8-48cf2443833f"
      },
      "outputs": [],
      "source": [
        "from torchsummary import summary\n",
        "from torchvision import transforms"
      ]
    },
    {
      "cell_type": "code",
      "execution_count": 7,
      "id": "ad9d1c51-9275-4e4e-880c-d07f72d4df51",
      "metadata": {
        "colab": {
          "base_uri": "https://localhost:8080/"
        },
        "id": "ad9d1c51-9275-4e4e-880c-d07f72d4df51",
        "outputId": "44bee9b8-4ec1-4f3d-86cb-0c8ee4222fa7"
      },
      "outputs": [
        {
          "output_type": "stream",
          "name": "stdout",
          "text": [
            "cuda:0\n"
          ]
        }
      ],
      "source": [
        "device = torch.device(\"cuda:0\" if torch.cuda.is_available() else \"cpu\")\n",
        "print(device)"
      ]
    },
    {
      "cell_type": "code",
      "source": [
        "!ls ./MyDrive/Junior_Year/N3AS/DR16_test.npy"
      ],
      "metadata": {
        "colab": {
          "base_uri": "https://localhost:8080/"
        },
        "id": "K38yVnqfdKt2",
        "outputId": "3ed772dd-713f-4c26-9ffa-4bea0976d820"
      },
      "id": "K38yVnqfdKt2",
      "execution_count": 8,
      "outputs": [
        {
          "output_type": "stream",
          "name": "stdout",
          "text": [
            "ls: cannot access './MyDrive/Junior_Year/N3AS/DR16_test.npy': No such file or directory\n"
          ]
        }
      ]
    },
    {
      "cell_type": "code",
      "execution_count": 9,
      "id": "a9d87956-d74a-422e-aaee-b8309e0d3058",
      "metadata": {
        "id": "a9d87956-d74a-422e-aaee-b8309e0d3058"
      },
      "outputs": [],
      "source": [
        "tt = transforms.Compose(\n",
        "    [\n",
        "        ct.RandomMask(masked_frac=0.2) #orig value: 0.2 could try making this lower, 0.1\n",
        "    ]\n",
        ")\n",
        "tt = ct.ContrastiveTransformations(tt)"
      ]
    },
    {
      "cell_type": "markdown",
      "id": "71a973f2-6268-44f3-b90d-5b0c0e8b254c",
      "metadata": {
        "id": "71a973f2-6268-44f3-b90d-5b0c0e8b254c"
      },
      "source": [
        "## Step 1: Choose your parameters"
      ]
    },
    {
      "cell_type": "code",
      "execution_count": 10,
      "id": "6128cc78-f5b0-429f-a30f-ad1ecdccd358",
      "metadata": {
        "id": "6128cc78-f5b0-429f-a30f-ad1ecdccd358"
      },
      "outputs": [],
      "source": [
        "SEED          = 287505\n",
        "\n",
        "## data parameters\n",
        "dataset       = 'SDSS_DR16_small_labeled'\n",
        "loc           = 'drive/MyDrive/Junior_Year/N3AS/'\n",
        "# number of layers in networks\n",
        "n_layers     = 1\n",
        "\n",
        "## fully connected net specific parameters\n",
        "# output size of each fully connected layer\n",
        "out_sizes    = [256]\n",
        "\n",
        "## parameters that apply to both, fully connected and convolutional nets \n",
        "# dropout rate after each layer\n",
        "dropout_rate = [0.0]\n",
        "# whether to Lipschitz regularize by bounding the spectral norm \n",
        "spec_norm    = False\n",
        "# activation function after each layer\n",
        "activations  = ['ReLU']\n",
        "# whether to add a bias in each layer or not\n",
        "bias         = [True]\n",
        "# whether tp apply a layer normalization after conv layer\n",
        "layer_norm   = [False]\n",
        "# whether to train elemntwise affine parameters for normalization layer \n",
        "affine       = False\n",
        "\n",
        "## general parameters\n",
        "# data dimensionality\n",
        "dim          = '1D'\n",
        "# latent space dimensionality\n",
        "latent_dim   = 8 # originally 8, try changing, must be larger\n",
        "hidden_dim   = 4 # originally 4, try changing\n",
        "# number of channels in data\n",
        "input_c      = 1 \n",
        "# data dimensioality along one axis (only square data supported in 2D)\n",
        "input_dim    = 1000\n",
        "# type of encoder and decoder network (either 'fc' or 'conv')\n",
        "encoder_type = 'fc'\n",
        "decoder_type = 'fc'\n",
        "\n",
        "# if True, the output is fed through a sigmoid layer to bring data values into range [0,1]\n",
        "final_sigmoid = False\n",
        "\n",
        "\n",
        "## Training parameters\n",
        "nepochs          = 10 # try 50\n",
        "batchsize        = 512 # try changing sizes, original size 64\n",
        "batchsize_valid  = 512\n",
        "initial_lr       = 1e-2\n",
        "\n",
        "optimizer        = 'Adam'\n",
        "criterion1       = 'contrastive_loss'\n",
        "criterion2       = 'contrastive_loss'\n",
        "\n",
        "scheduler        = 'ExponentialLR'\n",
        "scheduler_params = {'gamma':0.98}\n",
        "ann_epoch        = 500\n",
        "\n",
        "contrastive      = True\n",
        "tau              = 0.05 # try changing, original value 0.05"
      ]
    },
    {
      "cell_type": "code",
      "execution_count": 11,
      "id": "861e682f-cde3-4571-91fa-658b8fb37952",
      "metadata": {
        "id": "861e682f-cde3-4571-91fa-658b8fb37952"
      },
      "outputs": [],
      "source": [
        "general_params      = {'input_c': input_c, 'input_dim': input_dim, 'latent_dim': latent_dim, 'encoder_type': encoder_type, 'decoder_type': decoder_type, 'dim': dim, 'contrastive':contrastive, 'hidden_dim':hidden_dim, 'tau': tau}\n",
        "fc_network_params   = {'n_layers': n_layers, 'out_sizes': out_sizes,'activations': activations, 'spec_norm': spec_norm, 'dropout_rate':dropout_rate, \\\n",
        "                       'layer_norm': layer_norm, 'affine': affine, 'final_sigmoid': final_sigmoid, 'bias':bias}\n",
        "training_params     = {'batchsize': batchsize, 'initial_lr': initial_lr, 'optimizer': optimizer, 'criterion1': criterion1, 'criterion2': criterion2,\n",
        "                       'scheduler': scheduler, 'scheduler_params':scheduler_params, 'ann_epoch': ann_epoch, 'batchsize_valid': batchsize_valid}\n",
        "data_params         = {'dataset':dataset, 'loc': loc}"
      ]
    },
    {
      "cell_type": "code",
      "execution_count": 12,
      "id": "7297f7af-b441-41d1-9523-bb55825f0880",
      "metadata": {
        "id": "7297f7af-b441-41d1-9523-bb55825f0880"
      },
      "outputs": [],
      "source": [
        "torch.manual_seed(SEED)\n",
        "np.random.seed(SEED)"
      ]
    },
    {
      "cell_type": "markdown",
      "id": "8a15e150-b672-4182-bbfe-d4f28110f169",
      "metadata": {
        "id": "8a15e150-b672-4182-bbfe-d4f28110f169"
      },
      "source": [
        "## Step 2: Set up and train the autoencoder"
      ]
    },
    {
      "cell_type": "code",
      "execution_count": 13,
      "id": "3fb34b69-8954-4984-b941-61d49252ccc9",
      "metadata": {
        "id": "3fb34b69-8954-4984-b941-61d49252ccc9"
      },
      "outputs": [],
      "source": [
        "AE1 = AE.Autoencoder(general_params,data_params,fc_network_params, fc_network_params, training_params, device, tt)"
      ]
    },
    {
      "cell_type": "code",
      "execution_count": 14,
      "id": "de487e60-7c9e-40a2-8f7b-2f073e9c9dd0",
      "metadata": {
        "id": "de487e60-7c9e-40a2-8f7b-2f073e9c9dd0"
      },
      "outputs": [],
      "source": [
        "test_sample = next(iter(AE1.valid_loader))"
      ]
    },
    {
      "cell_type": "code",
      "source": [
        "plt.plot(np.squeeze(test_sample[0][0]))"
      ],
      "metadata": {
        "id": "DT0UCE1xJJ27",
        "outputId": "61351166-00bd-4f6a-a8dc-34f07076c37f",
        "colab": {
          "base_uri": "https://localhost:8080/",
          "height": 283
        }
      },
      "id": "DT0UCE1xJJ27",
      "execution_count": 15,
      "outputs": [
        {
          "output_type": "execute_result",
          "data": {
            "text/plain": [
              "[<matplotlib.lines.Line2D at 0x7f701f187ad0>]"
            ]
          },
          "metadata": {},
          "execution_count": 15
        },
        {
          "output_type": "display_data",
          "data": {
            "text/plain": [
              "<Figure size 432x288 with 1 Axes>"
            ],
            "image/png": "[encoded data removed]"
          },
          "metadata": {
            "needs_background": "light"
          }
        }
      ]
    },
    {
      "cell_type": "code",
      "source": [
        "len(test_sample)"
      ],
      "metadata": {
        "id": "inAK5ag6CYHA",
        "outputId": "67f6140f-5e22-420e-a77c-ad64aabaccee",
        "colab": {
          "base_uri": "https://localhost:8080/"
        }
      },
      "id": "inAK5ag6CYHA",
      "execution_count": 16,
      "outputs": [
        {
          "output_type": "execute_result",
          "data": {
            "text/plain": [
              "2"
            ]
          },
          "metadata": {},
          "execution_count": 16
        }
      ]
    },
    {
      "cell_type": "code",
      "execution_count": 17,
      "id": "529cc63d-2a66-43bc-9762-e596e54b3a51",
      "metadata": {
        "colab": {
          "base_uri": "https://localhost:8080/"
        },
        "id": "529cc63d-2a66-43bc-9762-e596e54b3a51",
        "outputId": "9e6640d2-97b6-478f-ae3e-9d42d7924e9a"
      },
      "outputs": [
        {
          "output_type": "stream",
          "name": "stdout",
          "text": [
            "----------------------------------------------------------------\n",
            "        Layer (type)               Output Shape         Param #\n",
            "================================================================\n",
            "           Flatten-1                 [-1, 1000]               0\n",
            "            Linear-2                  [-1, 256]         256,256\n",
            "              ReLU-3                  [-1, 256]               0\n",
            "           Dropout-4                  [-1, 256]               0\n",
            "            Linear-5                    [-1, 8]           2,056\n",
            "         FCEncoder-6                    [-1, 8]               0\n",
            "              ReLU-7                    [-1, 8]               0\n",
            "            Linear-8                    [-1, 6]              54\n",
            "              ReLU-9                    [-1, 6]               0\n",
            "           Linear-10                    [-1, 4]              28\n",
            "================================================================\n",
            "Total params: 258,394\n",
            "Trainable params: 258,394\n",
            "Non-trainable params: 0\n",
            "----------------------------------------------------------------\n",
            "Input size (MB): 0.00\n",
            "Forward/backward pass size (MB): 0.01\n",
            "Params size (MB): 0.99\n",
            "Estimated Total Size (MB): 1.00\n",
            "----------------------------------------------------------------\n"
          ]
        }
      ],
      "source": [
        "if dim =='1D':\n",
        "    summary(AE1, (input_c,input_dim))\n",
        "else:\n",
        "    summary(AE1, (input_c, input_dim, input_dim))"
      ]
    },
    {
      "cell_type": "markdown",
      "source": [
        ""
      ],
      "metadata": {
        "id": "0sOmpy2CQkWu"
      },
      "id": "0sOmpy2CQkWu"
    },
    {
      "cell_type": "code",
      "execution_count": 18,
      "id": "27f0ba1b-aaa9-4cb8-930e-ddbd06051ab8",
      "metadata": {
        "colab": {
          "base_uri": "https://localhost:8080/"
        },
        "id": "27f0ba1b-aaa9-4cb8-930e-ddbd06051ab8",
        "outputId": "448f27b0-a7e3-493c-b0a2-b5f81fafc417"
      },
      "outputs": [
        {
          "output_type": "stream",
          "name": "stdout",
          "text": [
            "epoch: 0, training loss: 4.2343e+00, validation loss: 3.4885e+00, learning rate: 9.8000e-03\n",
            "epoch: 1, training loss: 3.1477e+00, validation loss: 2.8804e+00, learning rate: 9.6040e-03\n",
            "epoch: 2, training loss: 2.8628e+00, validation loss: 2.7918e+00, learning rate: 9.4119e-03\n",
            "epoch: 3, training loss: 2.6768e+00, validation loss: 2.6010e+00, learning rate: 9.2237e-03\n",
            "epoch: 4, training loss: 2.5900e+00, validation loss: 2.5887e+00, learning rate: 9.0392e-03\n",
            "epoch: 5, training loss: 2.5591e+00, validation loss: 2.5337e+00, learning rate: 8.8584e-03\n",
            "epoch: 6, training loss: 2.5510e+00, validation loss: 2.5939e+00, learning rate: 8.6813e-03\n",
            "epoch: 7, training loss: 2.5412e+00, validation loss: 2.5659e+00, learning rate: 8.5076e-03\n",
            "epoch: 8, training loss: 2.5308e+00, validation loss: 2.5823e+00, learning rate: 8.3375e-03\n",
            "epoch: 9, training loss: 2.5263e+00, validation loss: 2.5087e+00, learning rate: 8.1707e-03\n"
          ]
        }
      ],
      "source": [
        "train_loss, valid_loss = AE1.train(nepochs)"
      ]
    },
    {
      "cell_type": "code",
      "execution_count": 19,
      "id": "3858f4c6-67cd-4c59-b2b7-eb42fb7ebed8",
      "metadata": {
        "id": "3858f4c6-67cd-4c59-b2b7-eb42fb7ebed8"
      },
      "outputs": [],
      "source": [
        "# plt.figure()\n",
        "# plt.title('Contrastive Learning Training',fontsize=14)\n",
        "# plt.plot(train_loss, label='training')\n",
        "# plt.plot(valid_loss, label='validation')\n",
        "# plt.xlabel('epoch',fontsize=13)\n",
        "# plt.ylabel('loss',fontsize=13)\n",
        "# plt.legend(fontsize=13)\n",
        "# plt.show()"
      ]
    },
    {
      "cell_type": "code",
      "source": [
        "# ### encoding network\n",
        "# AE1.encoder"
      ],
      "metadata": {
        "id": "Y_NOAD1CJxHo"
      },
      "id": "Y_NOAD1CJxHo",
      "execution_count": 20,
      "outputs": []
    },
    {
      "cell_type": "code",
      "source": [
        "# encoded1= AE1(test_sample[0].to(AE1.device)).detach().cpu()\n",
        "# encoded1.shape\n",
        "# len(test_sample)\n",
        "# test_sample[1]"
      ],
      "metadata": {
        "id": "9DNJdJqmMaNg"
      },
      "id": "9DNJdJqmMaNg",
      "execution_count": 21,
      "outputs": []
    },
    {
      "cell_type": "code",
      "source": [
        "# encoded2= AE1(test_sample[1].to(AE1.device)).detach().cpu()\n",
        "# l1 = np.sqrt((encoded1[:,0] - encoded2[:,0])**2+(encoded1[:,1] - encoded2[:,1])**2+(encoded1[:,2] - encoded2[:,2])**2+(encoded1[:,3] - encoded2[:,3])**2)\n",
        "# l2 = l1**2\n",
        "\n",
        "# l1_avg = torch.mean(l1)\n",
        "# l2_avg = torch.mean(l2)\n",
        "\n",
        "# print(l1.shape)\n",
        "# print(l1_avg)\n",
        "# print(l2_avg)"
      ],
      "metadata": {
        "id": "MAeH-3LyNdwf"
      },
      "id": "MAeH-3LyNdwf",
      "execution_count": 22,
      "outputs": []
    },
    {
      "cell_type": "code",
      "source": [
        "# plt.scatter(encoded1[:,0].cpu(),encoded1[:,1])\n",
        "# plt.scatter(encoded2[:,0].cpu(),encoded2[:,1],marker='+')\n",
        "# # l1 & l2 (using encoded1 and encoded2 as point 1 and 2)\n",
        "# # l1: |p1-p2|\n",
        "# # 64 distances: take average or plot a histogram\n",
        "# # 0.1 masked_frac\n",
        "# # increase batch size of test (256, 512)"
      ],
      "metadata": {
        "id": "p5cSDqojNoeY"
      },
      "id": "p5cSDqojNoeY",
      "execution_count": 23,
      "outputs": []
    },
    {
      "cell_type": "code",
      "source": [
        "# # plt.plot(l1)\n",
        "# # plt.show()\n",
        "\n",
        "# plt.hist(l1, bins=200, density=True, cumulative=True)\n",
        "# #plt.xlim([0,0.5])\n",
        "# plt.show()\n",
        "\n",
        "# sort = np.argsort(l1)\n",
        "# print(sort.shape)\n",
        "\n",
        "# plt.hist(l2, bins=1000, density=True, cumulative=True)\n",
        "# #plt.xlim([0,0.1])\n",
        "# plt.show()\n",
        "\n",
        "# # plt.scatter(l2[:,0].cpu(),l2[:,1])\n",
        "# # plt.show()\n",
        "\n",
        "# # try batch size 512\n",
        "# #print(np.argsort(l1))"
      ],
      "metadata": {
        "id": "qiofH4iIgxI7"
      },
      "id": "qiofH4iIgxI7",
      "execution_count": 24,
      "outputs": []
    },
    {
      "cell_type": "code",
      "source": [
        "# # top five shortest distances\n",
        "# plt.plot(np.squeeze(test_sample[0][500]))\n",
        "# plt.show()\n",
        "# plt.plot(np.squeeze(test_sample[0][162]))\n",
        "# plt.show()\n",
        "# plt.plot(np.squeeze(test_sample[0][134]))\n",
        "# plt.show()\n",
        "# plt.plot(np.squeeze(test_sample[0][37]))\n",
        "# plt.show()\n",
        "# plt.plot(np.squeeze(test_sample[0][242])) # what's up with this one?\n",
        "# plt.show()"
      ],
      "metadata": {
        "id": "kgw8OJhjNv3P"
      },
      "id": "kgw8OJhjNv3P",
      "execution_count": 25,
      "outputs": []
    },
    {
      "cell_type": "code",
      "source": [
        "# # top five largest distances\n",
        "# plt.plot(np.squeeze(test_sample[0][504]))\n",
        "# plt.show()\n",
        "# plt.plot(np.squeeze(test_sample[0][243]))\n",
        "# plt.show()\n",
        "# plt.plot(np.squeeze(test_sample[0][377]))\n",
        "# plt.show()\n",
        "# plt.plot(np.squeeze(test_sample[0][496])) # what's up with this one?\n",
        "# plt.show()\n",
        "# plt.plot(np.squeeze(test_sample[0][110]))\n",
        "# plt.show()"
      ],
      "metadata": {
        "id": "LyT8XnwHr9bi"
      },
      "id": "LyT8XnwHr9bi",
      "execution_count": 26,
      "outputs": []
    },
    {
      "cell_type": "code",
      "source": [
        "# classification model (similar to regression)\n",
        "# l2 loss -> CSE loss\n",
        "# This data \"new data\" put into classification NN\n",
        "\n",
        "# Spectra Info:\n",
        "  # red: no star formation or strong emission lines\n",
        "  # H alpha line: if broad, due to velocity\n",
        "    # doppler effect\n",
        "    # b/c of merger \n",
        "    # and change in PE from high to low, emission from BH gas"
      ],
      "metadata": {
        "id": "1qdnTXeJl0BI"
      },
      "id": "1qdnTXeJl0BI",
      "execution_count": 27,
      "outputs": []
    },
    {
      "cell_type": "code",
      "source": [
        "train_loader, valid_loader = get_data(data_params['dataset'],data_params['loc'],300,100, transforms=None)\n",
        "\n",
        "# # Make device agnostic code\n",
        "# device = \"cuda\" if torch.cuda.is_available() else \"cpu\"\n",
        "# devicea\n",
        "# X, y = test_sample\n",
        "# X_train, X_test, y_train, y_test = train_test_split(X, \n",
        "#                                                     y, \n",
        "#                                                     test_size=0.2, # 20% test, 80% train\n",
        "#                                                     random_state=42) # make the random split reproducible\n",
        "# # problem: y_train & y_test should be 1 dim\n",
        "# print(X.shape)\n",
        "# print(y.shape)"
      ],
      "metadata": {
        "id": "KSBbUXKwmDQV"
      },
      "id": "KSBbUXKwmDQV",
      "execution_count": null,
      "outputs": []
    },
    {
      "cell_type": "code",
      "source": [
        "next(iter(train_loader))\n",
        "torch.save(model, loc)\n",
        "model = torch.load(loc)"
      ],
      "metadata": {
        "id": "NnQdeZ_dseSo"
      },
      "id": "NnQdeZ_dseSo",
      "execution_count": null,
      "outputs": []
    },
    {
      "cell_type": "code",
      "source": [
        "i = 0\n",
        "data_len = dataset.len\n",
        "\n",
        "while batchsize * i <= data_len:\n",
        "  batch = next(data_loader) #written as iterator\n",
        "  enc = model(batch[\"features\"])\n",
        "  label = batch[\"labels\"]\n",
        "  i += 1\n",
        "  encs.append(enc)\n",
        "  labels.append(label)"
      ],
      "metadata": {
        "id": "dkJ4EdiCbhNQ"
      },
      "id": "dkJ4EdiCbhNQ",
      "execution_count": null,
      "outputs": []
    }
  ],
  "metadata": {
    "kernelspec": {
      "display_name": "pytorch",
      "language": "python",
      "name": "pytorch"
    },
    "language_info": {
      "codemirror_mode": {
        "name": "ipython",
        "version": 3
      },
      "file_extension": ".py",
      "mimetype": "text/x-python",
      "name": "python",
      "nbconvert_exporter": "python",
      "pygments_lexer": "ipython3",
      "version": "3.7.10"
    },
    "colab": {
      "name": "ContrastiveLearning.ipynb",
      "provenance": [],
      "include_colab_link": true
    },
    "accelerator": "GPU"
  },
  "nbformat": 4,
  "nbformat_minor": 5
}