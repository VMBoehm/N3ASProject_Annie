{
  "nbformat": 4,
  "nbformat_minor": 0,
  "metadata": {
    "colab": {
      "name": "First Regression with Pytorch - Annie 2/23.ipynb",
      "provenance": [],
      "include_colab_link": true
    },
    "kernelspec": {
      "name": "python3",
      "display_name": "Python 3"
    },
    "language_info": {
      "name": "python"
    }
  },
  "cells": [
    {
      "cell_type": "markdown",
      "metadata": {
        "id": "view-in-github",
        "colab_type": "text"
      },
      "source": [
        "<a href=\"https://colab.research.google.com/github/VMBoehm/N3ASProject_Annie/blob/main/First_Regression_with_Pytorch_Annie_2_25.ipynb\" target=\"_parent\"><img src=\"https://colab.research.google.com/assets/colab-badge.svg\" alt=\"Open In Colab\"/></a>"
      ]
    },
    {
      "cell_type": "code",
      "execution_count": null,
      "metadata": {
        "id": "Ba4e0yulEKMw"
      },
      "outputs": [],
      "source": [
        "import numpy as np\n",
        "import matplotlib.pyplot as plt\n",
        "from sklearn.model_selection import train_test_split\n",
        "from sklearn.linear_model import LinearRegression as lr"
      ]
    },
    {
      "cell_type": "code",
      "source": [
        "import torch\n",
        "from torch import nn\n",
        "from torch.utils.data import DataLoader\n",
        "from sklearn.datasets import load_boston\n",
        "from sklearn.preprocessing import StandardScaler"
      ],
      "metadata": {
        "id": "SO53T6AvEaok"
      },
      "execution_count": null,
      "outputs": []
    },
    {
      "cell_type": "code",
      "source": [
        "  # Set fixed random number seed\n",
        "  torch.manual_seed(42)\n",
        "  \n",
        "  # Load Boston dataset\n",
        "  # TASK: what are the X and y values in this dataset?\n",
        "        # The x value represents the factors causing housing price, and the y-value represents the housing price.\n",
        "  X, y = load_boston(return_X_y=True)\n"
      ],
      "metadata": {
        "colab": {
          "base_uri": "https://localhost:8080/"
        },
        "id": "YeDaiLscFGzx",
        "outputId": "81e7fc9d-f039-4e8e-c8db-67422601a2eb"
      },
      "execution_count": null,
      "outputs": [
        {
          "output_type": "stream",
          "name": "stderr",
          "text": [
            "/usr/local/lib/python3.7/dist-packages/sklearn/utils/deprecation.py:87: FutureWarning: Function load_boston is deprecated; `load_boston` is deprecated in 1.0 and will be removed in 1.2.\n",
            "\n",
            "    The Boston housing prices dataset has an ethical problem. You can refer to\n",
            "    the documentation of this function for further details.\n",
            "\n",
            "    The scikit-learn maintainers therefore strongly discourage the use of this\n",
            "    dataset unless the purpose of the code is to study and educate about\n",
            "    ethical issues in data science and machine learning.\n",
            "\n",
            "    In this special case, you can fetch the dataset from the original\n",
            "    source::\n",
            "\n",
            "        import pandas as pd\n",
            "        import numpy as np\n",
            "\n",
            "\n",
            "        data_url = \"http://lib.stat.cmu.edu/datasets/boston\"\n",
            "        raw_df = pd.read_csv(data_url, sep=\"\\s+\", skiprows=22, header=None)\n",
            "        data = np.hstack([raw_df.values[::2, :], raw_df.values[1::2, :2]])\n",
            "        target = raw_df.values[1::2, 2]\n",
            "\n",
            "    Alternative datasets include the California housing dataset (i.e.\n",
            "    :func:`~sklearn.datasets.fetch_california_housing`) and the Ames housing\n",
            "    dataset. You can load the datasets as follows::\n",
            "\n",
            "        from sklearn.datasets import fetch_california_housing\n",
            "        housing = fetch_california_housing()\n",
            "\n",
            "    for the California housing dataset and::\n",
            "\n",
            "        from sklearn.datasets import fetch_openml\n",
            "        housing = fetch_openml(name=\"house_prices\", as_frame=True)\n",
            "\n",
            "    for the Ames housing dataset.\n",
            "    \n",
            "  warnings.warn(msg, category=FutureWarning)\n"
          ]
        }
      ]
    },
    {
      "cell_type": "code",
      "source": [
        "# TASK: What is a class is python? What's it used for? How does inheritance work in python?\n",
        "      # A class is a group of code that is a blueprint for creating an object. Each has certain features and methods that make it unique.\n",
        "# TASK: Find out what StandardScaler does. \n",
        "      # It's a method that takes a value, subtracts it from the mean, and divides by the standard deviation, also called scaling to unit variance.\n",
        "class BostonDataset(torch.utils.data.Dataset):\n",
        "  '''\n",
        "  Prepare the Boston dataset for regression\n",
        "  '''\n",
        "\n",
        "  def __init__(self, X, y, scale_data=True):\n",
        "    if not torch.is_tensor(X) and not torch.is_tensor(y):\n",
        "      # Apply scaling if necessary\n",
        "      if scale_data:\n",
        "          X = StandardScaler().fit_transform(X)\n",
        "      self.X = torch.from_numpy(X)\n",
        "      self.y = torch.from_numpy(y)\n",
        "\n",
        "  def __len__(self):\n",
        "      return len(self.X)\n",
        "\n",
        "  def __getitem__(self, i):\n",
        "      return self.X[i], self.y[i]"
      ],
      "metadata": {
        "id": "rIarM2UWEbpU"
      },
      "execution_count": null,
      "outputs": []
    },
    {
      "cell_type": "code",
      "source": [
        "class MLP(nn.Module):\n",
        "  '''\n",
        "    Multilayer Perceptron for regression.\n",
        "  '''\n",
        "  def __init__(self):\n",
        "    super().__init__()\n",
        "    # TASK: how many parameters does this network have?\n",
        "          # (13*64) + (64*32) + (32*1) = 2912 parameters\n",
        "    self.layers = nn.Sequential(\n",
        "      nn.Linear(13, 64),\n",
        "      nn.ReLU(),\n",
        "      nn.Linear(64, 32),\n",
        "      nn.ReLU(),\n",
        "      nn.Linear(32, 1)\n",
        "    )\n",
        "\n",
        "\n",
        "  def forward(self, x):\n",
        "    '''\n",
        "      Forward pass\n",
        "    '''\n",
        "    return self.layers(x)"
      ],
      "metadata": {
        "id": "UtSRIGMOE2s0"
      },
      "execution_count": null,
      "outputs": []
    },
    {
      "cell_type": "code",
      "source": [
        "# Prepare Boston dataset\n",
        "\n",
        "X_train, X_test, y_train, y_test = train_test_split(X, y,\n",
        "    test_size=0.10) # random state=?\n",
        "\n",
        "  # Use the same function above for the validation set\n",
        "X_train, X_val, y_train, y_val = train_test_split(X_train, y_train, \n",
        "    test_size=2/9, random_state= 8) # 2/9 x 0.9 = 0.2\n",
        "\n",
        "dataset = BostonDataset(X_train, y_train)\n",
        "\n",
        "trainloader = torch.utils.data.DataLoader(dataset, batch_size=10, shuffle=True, num_workers=1)\n",
        "\n"
      ],
      "metadata": {
        "id": "45JDMNE0FAH_",
        "colab": {
          "base_uri": "https://localhost:8080/"
        },
        "outputId": "eeceb1e0-5c34-4005-88b0-0feb25b8ab3c"
      },
      "execution_count": null,
      "outputs": [
        {
          "output_type": "stream",
          "name": "stdout",
          "text": [
            "X_train shape: (353, 13)\n",
            "X_test shape: (51, 13)\n",
            "y_train shape: (353,)\n",
            "y_test shape: (51,)\n",
            "X_val shape: (353,)\n",
            "y val shape: (51,)\n",
            "X shape: (506, 13)\n",
            "y shape: (506,)\n"
          ]
        }
      ]
    },
    {
      "cell_type": "code",
      "source": [
        "# Initialize the MLP\n",
        "mlp = MLP()\n",
        "\n",
        "# Define the loss function and optimizer\n",
        "# TASK: what is L1 loss? what other loss could we use?\n",
        "      # L1 loss is a function that determines the mean absolute error between the value and the target. \n",
        "      # You could also use MSELoss to find the mean squared difference between the value and the target.\n",
        "loss_function = nn.L1Loss()\n",
        "optimizer = torch.optim.Adam(mlp.parameters(), lr=1e-4)"
      ],
      "metadata": {
        "id": "_KcWPhtXFptR"
      },
      "execution_count": null,
      "outputs": []
    },
    {
      "cell_type": "code",
      "source": [
        "# Run the training loop\n",
        "for epoch in range(0, 5): # 5 epochs at maximum\n",
        "  \n",
        "  # Print epoch\n",
        "  print(f'Starting epoch {epoch+1}')\n",
        "  \n",
        "  # Set current loss value\n",
        "  current_loss = 0.0\n",
        "  \n",
        "  # Iterate over the DataLoader for training data\n",
        "  for i, data in enumerate(trainloader, 0):\n",
        "    \n",
        "    # Get and prepare inputs\n",
        "    inputs, targets = data\n",
        "    inputs, targets = inputs.float(), targets.float()\n",
        "    targets = targets.reshape((targets.shape[0], 1))\n",
        "    \n",
        "    # Zero the gradients\n",
        "    optimizer.zero_grad()\n",
        "    \n",
        "    # Perform forward pass\n",
        "    outputs = mlp(inputs)\n",
        "    \n",
        "    # Compute loss\n",
        "    loss = loss_function(outputs, targets)\n",
        "    \n",
        "    # Perform backward pass\n",
        "    loss.backward()\n",
        "    \n",
        "    # Perform optimization\n",
        "    optimizer.step()\n",
        "    \n",
        "    # Print statistics\n",
        "    current_loss += loss.item()\n",
        "    if i % 10 == 0:\n",
        "        print('Loss after mini-batch %5d: %.3f' %\n",
        "              (i + 1, current_loss / (i+1)))\n",
        "        current_loss = 0.0\n",
        "\n",
        "# Process is complete.\n",
        "print('Training process has finished.')"
      ],
      "metadata": {
        "colab": {
          "base_uri": "https://localhost:8080/"
        },
        "id": "3WwWrz3NGGN-",
        "outputId": "b3cf3994-fd45-4cae-f66e-855c5c753188"
      },
      "execution_count": null,
      "outputs": [
        {
          "output_type": "stream",
          "name": "stdout",
          "text": [
            "Starting epoch 1\n",
            "Loss after mini-batch     1: 16.219\n",
            "Loss after mini-batch    11: 20.064\n",
            "Loss after mini-batch    21: 10.546\n",
            "Loss after mini-batch    31: 7.194\n",
            "Starting epoch 2\n",
            "Loss after mini-batch     1: 18.199\n",
            "Loss after mini-batch    11: 19.989\n",
            "Loss after mini-batch    21: 10.293\n",
            "Loss after mini-batch    31: 7.302\n",
            "Starting epoch 3\n",
            "Loss after mini-batch     1: 22.403\n",
            "Loss after mini-batch    11: 20.437\n",
            "Loss after mini-batch    21: 10.065\n",
            "Loss after mini-batch    31: 6.858\n",
            "Starting epoch 4\n",
            "Loss after mini-batch     1: 26.859\n",
            "Loss after mini-batch    11: 19.423\n",
            "Loss after mini-batch    21: 10.153\n",
            "Loss after mini-batch    31: 6.832\n",
            "Starting epoch 5\n",
            "Loss after mini-batch     1: 23.885\n",
            "Loss after mini-batch    11: 19.777\n",
            "Loss after mini-batch    21: 10.065\n",
            "Loss after mini-batch    31: 6.647\n",
            "Training process has finished.\n"
          ]
        }
      ]
    },
    {
      "cell_type": "code",
      "source": [
        "#TASK: how well does this model do?\n",
        "      # The loss seems to vary from around 0.04 to 0.4, but considering that this is out of 500 values, that seems fairly accurate.\n",
        "# What happens when you change the network architecture? (try different modifications, e.g.: more layers/less layers; wider network; other activation functions). \n",
        "      # I first tried running it a second time, and one of the loss numbers was 0.032.\n",
        "      # I tried changing (13, 64) to (10,64), and it said you cannot multiply the numbers correctly. The same happened after deleting a layer.\n",
        "      # After changing the numbers back, the loss values went up again.\n",
        "      # Changing lr=e-4 to e-3 made the loss values decrease as the epochs increased\n",
        "# What happens when you change the loss function?\n",
        "      # MSELoss gives much larger loss numbers.\n",
        "      # CrossEntropyLoss gives values of 0.\n",
        "# Can you think of ways to visualize your network performance? (plots)\n",
        "      # You could create a plot containing all the values from each epoch as the x values and all the loss values as y coordinates.\n",
        "# Can you split the data into training, validation and test set? With the validation set you can check for overfitting while you are training.\n",
        "# The test set is used for your final model evaluation.\n",
        "      # The training set is the boston data, and the validation set is the california data. I'm not sure about the test value though.\n",
        "\n",
        "      # start adding validation(20%), training (70%), + test set(10%)\n",
        "      # compare validation (look) and training, plot test set (prediction vs. truth)\n",
        "      # contrastive learning\n"
      ],
      "metadata": {
        "id": "JnRFzTa_GSOo"
      },
      "execution_count": null,
      "outputs": []
    },
    {
      "cell_type": "code",
      "source": [
        "# Test set plot\n",
        "plt.figure(figsize=(12, 8))\n",
        "\n",
        "model = lr().fit(X_train, y_train) # lr for linear regression\n",
        "predictions = model.predict(X_test)\n",
        "plt.scatter(y_test, predictions)\n",
        "plt.show()"
      ],
      "metadata": {
        "colab": {
          "base_uri": "https://localhost:8080/",
          "height": 483
        },
        "id": "utRN-Int4Wh_",
        "outputId": "2a8e1d9f-1f00-49a1-9e13-d4f95bf351c3"
      },
      "execution_count": null,
      "outputs": [
        {
          "output_type": "display_data",
          "data": {
            "image/png": "[encoded data removed]",
            "text/plain": [
              "<Figure size 864x576 with 1 Axes>"
            ]
          },
          "metadata": {
            "needs_background": "light"
          }
        }
      ]
    }
  ]
}