{
  "cells": [
    {
      "cell_type": "markdown",
      "metadata": {
        "id": "view-in-github",
        "colab_type": "text"
      },
      "source": [
        "<a href=\"https://colab.research.google.com/github/VMBoehm/N3ASProject_Annie/blob/main/notebooks/ContrastiveLearning.ipynb\" target=\"_parent\"><img src=\"https://colab.research.google.com/assets/colab-badge.svg\" alt=\"Open In Colab\"/></a>"
      ]
    },
    {
      "cell_type": "markdown",
      "id": "7dd500ab-a47b-4225-af44-4c748a82b0b2",
      "metadata": {
        "id": "7dd500ab-a47b-4225-af44-4c748a82b0b2"
      },
      "source": [
        "# Contrastive Learning Code"
      ]
    },
    {
      "cell_type": "code",
      "source": [
        "!pip install git+https://github.com/VMBoehm/PytorchPAE.git@4Annie"
      ],
      "metadata": {
        "id": "2tH_X5KOwtxs",
        "outputId": "31fbe86a-1905-481f-c2c9-6c813db44a32",
        "colab": {
          "base_uri": "https://localhost:8080/"
        }
      },
      "id": "2tH_X5KOwtxs",
      "execution_count": 1,
      "outputs": [
        {
          "output_type": "stream",
          "name": "stdout",
          "text": [
            "Collecting git+https://github.com/VMBoehm/PytorchPAE.git@4Annie\n",
            "  Cloning https://github.com/VMBoehm/PytorchPAE.git (to revision 4Annie) to /tmp/pip-req-build-srslgf4r\n",
            "  Running command git clone -q https://github.com/VMBoehm/PytorchPAE.git /tmp/pip-req-build-srslgf4r\n",
            "  Running command git checkout -b 4Annie --track origin/4Annie\n",
            "  Switched to a new branch '4Annie'\n",
            "  Branch '4Annie' set up to track remote branch '4Annie' from 'origin'.\n",
            "Building wheels for collected packages: pytorch-pae\n",
            "  Building wheel for pytorch-pae (setup.py) ... \u001b[?25l\u001b[?25hdone\n",
            "  Created wheel for pytorch-pae: filename=pytorch_pae-0.1.dev17+g982644b-py3-none-any.whl size=14107 sha256=1bfae7f5a801c2e5fce15af5a7be2105996312a5dddc8a22b9dd95052a557ba9\n",
            "  Stored in directory: /tmp/pip-ephem-wheel-cache-5y0v9536/wheels/78/cc/78/d3a54eac541cbd419347e36d065b35fb9a9740d1a9507e2b60\n",
            "Successfully built pytorch-pae\n",
            "Installing collected packages: pytorch-pae\n",
            "  Attempting uninstall: pytorch-pae\n",
            "    Found existing installation: pytorch-pae 0.1.dev16+gb965226\n",
            "    Uninstalling pytorch-pae-0.1.dev16+gb965226:\n",
            "      Successfully uninstalled pytorch-pae-0.1.dev16+gb965226\n",
            "Successfully installed pytorch-pae-0.1.dev17+g982644b\n"
          ]
        }
      ]
    },
    {
      "cell_type": "code",
      "execution_count": 2,
      "id": "57627e3d-f9b1-4b56-b835-b207442b9e68",
      "metadata": {
        "id": "57627e3d-f9b1-4b56-b835-b207442b9e68"
      },
      "outputs": [],
      "source": [
        "# import this package \n",
        "from pytorch_pae import AE\n",
        "from pytorch_pae import custom_transforms as ct"
      ]
    },
    {
      "cell_type": "code",
      "execution_count": 3,
      "id": "f85a4793-bb5e-4c4a-949f-73d44977f092",
      "metadata": {
        "id": "f85a4793-bb5e-4c4a-949f-73d44977f092"
      },
      "outputs": [],
      "source": [
        "import numpy as np\n",
        "import matplotlib.pyplot as plt\n",
        "import os"
      ]
    },
    {
      "cell_type": "code",
      "execution_count": 4,
      "id": "29c0269c-d6b5-4d72-835e-b9c5ab0cab03",
      "metadata": {
        "id": "29c0269c-d6b5-4d72-835e-b9c5ab0cab03",
        "outputId": "1f02f436-207a-4b1d-c930-841b9c7c6a4f",
        "colab": {
          "base_uri": "https://localhost:8080/"
        }
      },
      "outputs": [
        {
          "output_type": "stream",
          "name": "stdout",
          "text": [
            "1.10.0+cu111\n"
          ]
        }
      ],
      "source": [
        "# import pytorch\n",
        "import torch\n",
        "print(torch.__version__)"
      ]
    },
    {
      "cell_type": "code",
      "source": [
        "from google.colab import drive\n",
        "import os\n",
        "drive.mount('/content/drive/')"
      ],
      "metadata": {
        "id": "jpchPeFU22_x",
        "outputId": "ceed35fc-c950-4ef8-d581-a7fcccfa2f61",
        "colab": {
          "base_uri": "https://localhost:8080/"
        }
      },
      "id": "jpchPeFU22_x",
      "execution_count": 5,
      "outputs": [
        {
          "output_type": "stream",
          "name": "stdout",
          "text": [
            "Drive already mounted at /content/drive/; to attempt to forcibly remount, call drive.mount(\"/content/drive/\", force_remount=True).\n"
          ]
        }
      ]
    },
    {
      "cell_type": "code",
      "execution_count": 6,
      "id": "706abcb9-97ed-4051-a9e8-48cf2443833f",
      "metadata": {
        "id": "706abcb9-97ed-4051-a9e8-48cf2443833f"
      },
      "outputs": [],
      "source": [
        "from torchsummary import summary\n",
        "from torchvision import transforms"
      ]
    },
    {
      "cell_type": "code",
      "execution_count": 7,
      "id": "ad9d1c51-9275-4e4e-880c-d07f72d4df51",
      "metadata": {
        "id": "ad9d1c51-9275-4e4e-880c-d07f72d4df51",
        "outputId": "31023169-b808-4dad-93ee-efa8cf6c82b1",
        "colab": {
          "base_uri": "https://localhost:8080/"
        }
      },
      "outputs": [
        {
          "output_type": "stream",
          "name": "stdout",
          "text": [
            "cpu\n"
          ]
        }
      ],
      "source": [
        "device = torch.device(\"cuda:0\" if torch.cuda.is_available() else \"cpu\")\n",
        "print(device)"
      ]
    },
    {
      "cell_type": "code",
      "execution_count": 8,
      "id": "a9d87956-d74a-422e-aaee-b8309e0d3058",
      "metadata": {
        "id": "a9d87956-d74a-422e-aaee-b8309e0d3058"
      },
      "outputs": [],
      "source": [
        "tt = transforms.Compose(\n",
        "    [\n",
        "        ct.RandomMask(masked_frac=0.4)\n",
        "    ]\n",
        ")\n",
        "tt = ct.ContrastiveTransformations(tt)"
      ]
    },
    {
      "cell_type": "markdown",
      "id": "71a973f2-6268-44f3-b90d-5b0c0e8b254c",
      "metadata": {
        "id": "71a973f2-6268-44f3-b90d-5b0c0e8b254c"
      },
      "source": [
        "## Step 1: Choose your parameters"
      ]
    },
    {
      "cell_type": "code",
      "execution_count": 9,
      "id": "6128cc78-f5b0-429f-a30f-ad1ecdccd358",
      "metadata": {
        "id": "6128cc78-f5b0-429f-a30f-ad1ecdccd358"
      },
      "outputs": [],
      "source": [
        "SEED          = 287505\n",
        "\n",
        "## data parameters\n",
        "dataset       = 'SDSS_DR16_corrupted'\n",
        "loc           = 'drive/MyDrive/ML_lecture_data/'\n",
        "# number of layers in networks\n",
        "n_layers     = 1\n",
        "\n",
        "## fully connected net specific parameters\n",
        "# output size of each fully connected layer\n",
        "out_sizes    = [256]\n",
        "\n",
        "## parameters that apply to both, fully connected and convolutional nets \n",
        "# dropout rate after each layer\n",
        "dropout_rate = [0.0]\n",
        "# whether to Lipschitz regularize by bounding the spectral norm \n",
        "spec_norm    = False\n",
        "# activation function after each layer\n",
        "activations  = ['ReLU']\n",
        "# whether to add a bias in each layer or not\n",
        "bias         = [True]\n",
        "# whether tp apply a layer normalization after conv layer\n",
        "layer_norm   = [False]\n",
        "# whether to train elemntwise affine parameters for normalization layer \n",
        "affine       = False\n",
        "\n",
        "## general parameters\n",
        "# data dimensionality\n",
        "dim          = '1D'\n",
        "# latent space dimensionality\n",
        "latent_dim   = 8\n",
        "hidden_dim   = 4\n",
        "# number of channels in data\n",
        "input_c      = 1 \n",
        "# data dimensioality along one axis (only square data supported in 2D)\n",
        "input_dim    = 1000\n",
        "# type of encoder and decoder network (either 'fc' or 'conv')\n",
        "encoder_type = 'fc'\n",
        "decoder_type = 'fc'\n",
        "\n",
        "# if True, the output is fed through a sigmoid layer to bring data values into range [0,1]\n",
        "final_sigmoid = False\n",
        "\n",
        "\n",
        "## Training parameters\n",
        "nepochs          = 20\n",
        "batchsize        = 64\n",
        "batchsize_valid  = 64\n",
        "initial_lr       = 1e-2\n",
        "\n",
        "optimizer        = 'Adam'\n",
        "criterion1       = 'contrastive_loss'\n",
        "criterion2       = 'contrastive_loss'\n",
        "\n",
        "scheduler        = 'ExponentialLR'\n",
        "scheduler_params = {'gamma':0.98}\n",
        "ann_epoch        = 500\n",
        "\n",
        "contrastive      = True\n",
        "tau              = 0.05"
      ]
    },
    {
      "cell_type": "code",
      "execution_count": 10,
      "id": "861e682f-cde3-4571-91fa-658b8fb37952",
      "metadata": {
        "id": "861e682f-cde3-4571-91fa-658b8fb37952"
      },
      "outputs": [],
      "source": [
        "general_params      = {'input_c': input_c, 'input_dim': input_dim, 'latent_dim': latent_dim, 'encoder_type': encoder_type, 'decoder_type': decoder_type, 'dim': dim, 'contrastive':contrastive, 'hidden_dim':hidden_dim, 'tau': tau}\n",
        "fc_network_params   = {'n_layers': n_layers, 'out_sizes': out_sizes,'activations': activations, 'spec_norm': spec_norm, 'dropout_rate':dropout_rate, \\\n",
        "                       'layer_norm': layer_norm, 'affine': affine, 'final_sigmoid': final_sigmoid, 'bias':bias}\n",
        "training_params     = {'batchsize': batchsize, 'initial_lr': initial_lr, 'optimizer': optimizer, 'criterion1': criterion1, 'criterion2': criterion2,\n",
        "                       'scheduler': scheduler, 'scheduler_params':scheduler_params, 'ann_epoch': ann_epoch, 'batchsize_valid': batchsize_valid}\n",
        "data_params         = {'dataset':dataset, 'loc': loc}"
      ]
    },
    {
      "cell_type": "code",
      "execution_count": 11,
      "id": "7297f7af-b441-41d1-9523-bb55825f0880",
      "metadata": {
        "id": "7297f7af-b441-41d1-9523-bb55825f0880"
      },
      "outputs": [],
      "source": [
        "torch.manual_seed(SEED)\n",
        "np.random.seed(SEED)"
      ]
    },
    {
      "cell_type": "markdown",
      "id": "8a15e150-b672-4182-bbfe-d4f28110f169",
      "metadata": {
        "id": "8a15e150-b672-4182-bbfe-d4f28110f169"
      },
      "source": [
        "## Step 2: Set up and train the autoencoder"
      ]
    },
    {
      "cell_type": "code",
      "execution_count": 12,
      "id": "3fb34b69-8954-4984-b941-61d49252ccc9",
      "metadata": {
        "id": "3fb34b69-8954-4984-b941-61d49252ccc9",
        "outputId": "0522d4e8-5482-41c1-dbd5-080a1590cf5a",
        "colab": {
          "base_uri": "https://localhost:8080/"
        }
      },
      "outputs": [
        {
          "output_type": "stream",
          "name": "stdout",
          "text": [
            "(100000, 1000, 1) 100000\n",
            "(100000, 1, 1000)\n",
            "(30000, 1000, 1) 30000\n",
            "(30000, 1, 1000)\n"
          ]
        }
      ],
      "source": [
        "AE1 = AE.Autoencoder(general_params,data_params,fc_network_params, fc_network_params, training_params, device, tt)"
      ]
    },
    {
      "cell_type": "code",
      "execution_count": 13,
      "id": "de487e60-7c9e-40a2-8f7b-2f073e9c9dd0",
      "metadata": {
        "id": "de487e60-7c9e-40a2-8f7b-2f073e9c9dd0",
        "outputId": "a28f947b-0621-4be0-e4f7-e0fd4aa85829",
        "colab": {
          "base_uri": "https://localhost:8080/"
        }
      },
      "outputs": [
        {
          "output_type": "execute_result",
          "data": {
            "text/plain": [
              "100032"
            ]
          },
          "metadata": {},
          "execution_count": 13
        }
      ],
      "source": [
        "len(AE1.train_loader)*batchsize"
      ]
    },
    {
      "cell_type": "code",
      "execution_count": 14,
      "id": "529cc63d-2a66-43bc-9762-e596e54b3a51",
      "metadata": {
        "id": "529cc63d-2a66-43bc-9762-e596e54b3a51",
        "outputId": "a8e6642e-605a-4468-ad25-af5828bc6e8c",
        "colab": {
          "base_uri": "https://localhost:8080/"
        }
      },
      "outputs": [
        {
          "output_type": "stream",
          "name": "stdout",
          "text": [
            "----------------------------------------------------------------\n",
            "        Layer (type)               Output Shape         Param #\n",
            "================================================================\n",
            "           Flatten-1                 [-1, 1000]               0\n",
            "            Linear-2                  [-1, 256]         256,256\n",
            "              ReLU-3                  [-1, 256]               0\n",
            "           Dropout-4                  [-1, 256]               0\n",
            "            Linear-5                    [-1, 8]           2,056\n",
            "         FCEncoder-6                    [-1, 8]               0\n",
            "              ReLU-7                    [-1, 8]               0\n",
            "            Linear-8                    [-1, 6]              54\n",
            "              ReLU-9                    [-1, 6]               0\n",
            "           Linear-10                    [-1, 4]              28\n",
            "================================================================\n",
            "Total params: 258,394\n",
            "Trainable params: 258,394\n",
            "Non-trainable params: 0\n",
            "----------------------------------------------------------------\n",
            "Input size (MB): 0.00\n",
            "Forward/backward pass size (MB): 0.01\n",
            "Params size (MB): 0.99\n",
            "Estimated Total Size (MB): 1.00\n",
            "----------------------------------------------------------------\n"
          ]
        }
      ],
      "source": [
        "if dim =='1D':\n",
        "    summary(AE1, (input_c,input_dim))\n",
        "else:\n",
        "    summary(AE1, (input_c, input_dim, input_dim))"
      ]
    },
    {
      "cell_type": "code",
      "execution_count": 15,
      "id": "27f0ba1b-aaa9-4cb8-930e-ddbd06051ab8",
      "metadata": {
        "id": "27f0ba1b-aaa9-4cb8-930e-ddbd06051ab8",
        "outputId": "442803ae-5125-40f8-a56d-6f8d4d122ecd",
        "colab": {
          "base_uri": "https://localhost:8080/"
        }
      },
      "outputs": [
        {
          "output_type": "stream",
          "name": "stdout",
          "text": [
            "epoch: 0, training loss: 2.0148e+00, validation loss: 1.7586e+00, learning rate: 9.8000e-03\n",
            "epoch: 1, training loss: 1.6145e+00, validation loss: 1.6328e+00, learning rate: 9.6040e-03\n",
            "epoch: 2, training loss: 1.5428e+00, validation loss: 1.4332e+00, learning rate: 9.4119e-03\n",
            "epoch: 3, training loss: 1.5117e+00, validation loss: 1.7265e+00, learning rate: 9.2237e-03\n",
            "epoch: 4, training loss: 1.4818e+00, validation loss: 1.5238e+00, learning rate: 9.0392e-03\n",
            "epoch: 5, training loss: 1.4716e+00, validation loss: 1.3856e+00, learning rate: 8.8584e-03\n",
            "epoch: 6, training loss: 1.4586e+00, validation loss: 1.5286e+00, learning rate: 8.6813e-03\n",
            "epoch: 7, training loss: 1.4444e+00, validation loss: 1.3155e+00, learning rate: 8.5076e-03\n",
            "epoch: 8, training loss: 1.4393e+00, validation loss: 1.5529e+00, learning rate: 8.3375e-03\n",
            "epoch: 9, training loss: 1.4368e+00, validation loss: 1.3387e+00, learning rate: 8.1707e-03\n",
            "epoch: 10, training loss: 1.4220e+00, validation loss: 1.2560e+00, learning rate: 8.0073e-03\n",
            "epoch: 11, training loss: 1.4211e+00, validation loss: 1.4638e+00, learning rate: 7.8472e-03\n",
            "epoch: 12, training loss: 1.4126e+00, validation loss: 1.2783e+00, learning rate: 7.6902e-03\n",
            "epoch: 13, training loss: 1.4000e+00, validation loss: 1.5020e+00, learning rate: 7.5364e-03\n",
            "epoch: 14, training loss: 1.4026e+00, validation loss: 1.3691e+00, learning rate: 7.3857e-03\n",
            "epoch: 15, training loss: 1.3990e+00, validation loss: 1.3738e+00, learning rate: 7.2380e-03\n",
            "epoch: 16, training loss: 1.3949e+00, validation loss: 1.3168e+00, learning rate: 7.0932e-03\n",
            "epoch: 17, training loss: 1.3920e+00, validation loss: 1.3525e+00, learning rate: 6.9514e-03\n",
            "epoch: 18, training loss: 1.3946e+00, validation loss: 1.4393e+00, learning rate: 6.8123e-03\n",
            "epoch: 19, training loss: 1.3899e+00, validation loss: 1.4777e+00, learning rate: 6.6761e-03\n"
          ]
        }
      ],
      "source": [
        "train_loss, valid_loss = AE1.train(nepochs)"
      ]
    },
    {
      "cell_type": "code",
      "execution_count": 16,
      "id": "3858f4c6-67cd-4c59-b2b7-eb42fb7ebed8",
      "metadata": {
        "id": "3858f4c6-67cd-4c59-b2b7-eb42fb7ebed8",
        "outputId": "f01bcae9-3452-4def-95dd-d6e6447116fd",
        "colab": {
          "base_uri": "https://localhost:8080/",
          "height": 299
        }
      },
      "outputs": [
        {
          "output_type": "display_data",
          "data": {
            "text/plain": [
              "<Figure size 432x288 with 1 Axes>"
            ],
            "image/png": "[encoded data removed]"
          },
          "metadata": {
            "needs_background": "light"
          }
        }
      ],
      "source": [
        "plt.figure()\n",
        "plt.title('Contrastive Learning Training',fontsize=14)\n",
        "plt.plot(train_loss, label='training')\n",
        "plt.plot(valid_loss, label='validation')\n",
        "plt.xlabel('epoch',fontsize=13)\n",
        "plt.ylabel('loss',fontsize=13)\n",
        "plt.legend(fontsize=13)\n",
        "plt.show()"
      ]
    },
    {
      "cell_type": "code",
      "execution_count": 16,
      "id": "822c6ed1-da9f-4c2f-ab89-779d81d93c43",
      "metadata": {
        "id": "822c6ed1-da9f-4c2f-ab89-779d81d93c43"
      },
      "outputs": [],
      "source": [
        ""
      ]
    }
  ],
  "metadata": {
    "kernelspec": {
      "display_name": "pytorch",
      "language": "python",
      "name": "pytorch"
    },
    "language_info": {
      "codemirror_mode": {
        "name": "ipython",
        "version": 3
      },
      "file_extension": ".py",
      "mimetype": "text/x-python",
      "name": "python",
      "nbconvert_exporter": "python",
      "pygments_lexer": "ipython3",
      "version": "3.7.10"
    },
    "colab": {
      "name": "ContrastiveLearning.ipynb",
      "provenance": [],
      "include_colab_link": true
    }
  },
  "nbformat": 4,
  "nbformat_minor": 5
}