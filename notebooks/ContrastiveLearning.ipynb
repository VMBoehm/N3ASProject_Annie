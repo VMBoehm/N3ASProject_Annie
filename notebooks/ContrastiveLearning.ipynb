{
  "cells": [
    {
      "cell_type": "markdown",
      "id": "7dd500ab-a47b-4225-af44-4c748a82b0b2",
      "metadata": {
        "id": "7dd500ab-a47b-4225-af44-4c748a82b0b2"
      },
      "source": [
        "# Contrastive Learning Code"
      ]
    },
    {
      "cell_type": "code",
      "source": [
        "!pip install git+https://github.com/VMBoehm/PytorchPAE.git@4Annie"
      ],
      "metadata": {
        "colab": {
          "base_uri": "https://localhost:8080/"
        },
        "id": "2tH_X5KOwtxs",
        "outputId": "b7d1d32f-38b6-4fc3-f50e-1d7d0388ed3c"
      },
      "id": "2tH_X5KOwtxs",
      "execution_count": 1,
      "outputs": [
        {
          "output_type": "stream",
          "name": "stdout",
          "text": [
            "Collecting git+https://github.com/VMBoehm/PytorchPAE.git@4Annie\n",
            "  Cloning https://github.com/VMBoehm/PytorchPAE.git (to revision 4Annie) to /tmp/pip-req-build-kf3hww2p\n",
            "  Running command git clone -q https://github.com/VMBoehm/PytorchPAE.git /tmp/pip-req-build-kf3hww2p\n",
            "  Running command git checkout -b 4Annie --track origin/4Annie\n",
            "  Switched to a new branch '4Annie'\n",
            "  Branch '4Annie' set up to track remote branch '4Annie' from 'origin'.\n"
          ]
        }
      ]
    },
    {
      "cell_type": "code",
      "execution_count": 2,
      "id": "57627e3d-f9b1-4b56-b835-b207442b9e68",
      "metadata": {
        "id": "57627e3d-f9b1-4b56-b835-b207442b9e68"
      },
      "outputs": [],
      "source": [
        "# import this package \n",
        "from pytorch_pae import AE\n",
        "from pytorch_pae import custom_transforms as ct"
      ]
    },
    {
      "cell_type": "code",
      "execution_count": 3,
      "id": "f85a4793-bb5e-4c4a-949f-73d44977f092",
      "metadata": {
        "id": "f85a4793-bb5e-4c4a-949f-73d44977f092"
      },
      "outputs": [],
      "source": [
        "import numpy as np\n",
        "import matplotlib.pyplot as plt\n",
        "import os"
      ]
    },
    {
      "cell_type": "code",
      "execution_count": 4,
      "id": "29c0269c-d6b5-4d72-835e-b9c5ab0cab03",
      "metadata": {
        "colab": {
          "base_uri": "https://localhost:8080/"
        },
        "id": "29c0269c-d6b5-4d72-835e-b9c5ab0cab03",
        "outputId": "c98dd96c-8073-44de-d8b0-104ebf421bc2"
      },
      "outputs": [
        {
          "output_type": "stream",
          "name": "stdout",
          "text": [
            "1.10.0+cu111\n"
          ]
        }
      ],
      "source": [
        "# import pytorch\n",
        "import torch\n",
        "print(torch.__version__)"
      ]
    },
    {
      "cell_type": "code",
      "source": [
        "from google.colab import drive\n",
        "import os\n",
        "drive.mount('/content/drive/')"
      ],
      "metadata": {
        "colab": {
          "base_uri": "https://localhost:8080/"
        },
        "id": "jpchPeFU22_x",
        "outputId": "113207b6-ffe8-4b24-e60a-2c7b85b60681"
      },
      "id": "jpchPeFU22_x",
      "execution_count": 5,
      "outputs": [
        {
          "output_type": "stream",
          "name": "stdout",
          "text": [
            "Drive already mounted at /content/drive/; to attempt to forcibly remount, call drive.mount(\"/content/drive/\", force_remount=True).\n"
          ]
        }
      ]
    },
    {
      "cell_type": "code",
      "execution_count": 6,
      "id": "706abcb9-97ed-4051-a9e8-48cf2443833f",
      "metadata": {
        "id": "706abcb9-97ed-4051-a9e8-48cf2443833f"
      },
      "outputs": [],
      "source": [
        "from torchsummary import summary\n",
        "from torchvision import transforms"
      ]
    },
    {
      "cell_type": "code",
      "execution_count": 7,
      "id": "ad9d1c51-9275-4e4e-880c-d07f72d4df51",
      "metadata": {
        "colab": {
          "base_uri": "https://localhost:8080/"
        },
        "id": "ad9d1c51-9275-4e4e-880c-d07f72d4df51",
        "outputId": "96748401-475a-4458-e8b6-95f2264d6d2a"
      },
      "outputs": [
        {
          "output_type": "stream",
          "name": "stdout",
          "text": [
            "cuda:0\n"
          ]
        }
      ],
      "source": [
        "device = torch.device(\"cuda:0\" if torch.cuda.is_available() else \"cpu\")\n",
        "print(device)"
      ]
    },
    {
      "cell_type": "code",
      "execution_count": 8,
      "id": "a9d87956-d74a-422e-aaee-b8309e0d3058",
      "metadata": {
        "id": "a9d87956-d74a-422e-aaee-b8309e0d3058"
      },
      "outputs": [],
      "source": [
        "tt = transforms.Compose(\n",
        "    [\n",
        "        ct.RandomMask(masked_frac=0.2)\n",
        "    ]\n",
        ")\n",
        "tt = ct.ContrastiveTransformations(tt)"
      ]
    },
    {
      "cell_type": "markdown",
      "id": "71a973f2-6268-44f3-b90d-5b0c0e8b254c",
      "metadata": {
        "id": "71a973f2-6268-44f3-b90d-5b0c0e8b254c"
      },
      "source": [
        "## Step 1: Choose your parameters"
      ]
    },
    {
      "cell_type": "code",
      "execution_count": 9,
      "id": "6128cc78-f5b0-429f-a30f-ad1ecdccd358",
      "metadata": {
        "id": "6128cc78-f5b0-429f-a30f-ad1ecdccd358"
      },
      "outputs": [],
      "source": [
        "SEED          = 287505\n",
        "\n",
        "## data parameters\n",
        "dataset       = 'SDSS_DR16_corrupted'\n",
        "loc           = 'drive/MyDrive/ML_lecture_data/'\n",
        "# number of layers in networks\n",
        "n_layers     = 1\n",
        "\n",
        "## fully connected net specific parameters\n",
        "# output size of each fully connected layer\n",
        "out_sizes    = [256]\n",
        "\n",
        "## parameters that apply to both, fully connected and convolutional nets \n",
        "# dropout rate after each layer\n",
        "dropout_rate = [0.0]\n",
        "# whether to Lipschitz regularize by bounding the spectral norm \n",
        "spec_norm    = False\n",
        "# activation function after each layer\n",
        "activations  = ['ReLU']\n",
        "# whether to add a bias in each layer or not\n",
        "bias         = [True]\n",
        "# whether tp apply a layer normalization after conv layer\n",
        "layer_norm   = [False]\n",
        "# whether to train elemntwise affine parameters for normalization layer \n",
        "affine       = False\n",
        "\n",
        "## general parameters\n",
        "# data dimensionality\n",
        "dim          = '1D'\n",
        "# latent space dimensionality\n",
        "latent_dim   = 8\n",
        "hidden_dim   = 4\n",
        "# number of channels in data\n",
        "input_c      = 1 \n",
        "# data dimensioality along one axis (only square data supported in 2D)\n",
        "input_dim    = 1000\n",
        "# type of encoder and decoder network (either 'fc' or 'conv')\n",
        "encoder_type = 'fc'\n",
        "decoder_type = 'fc'\n",
        "\n",
        "# if True, the output is fed through a sigmoid layer to bring data values into range [0,1]\n",
        "final_sigmoid = False\n",
        "\n",
        "\n",
        "## Training parameters\n",
        "nepochs          = 10\n",
        "batchsize        = 64\n",
        "batchsize_valid  = 64\n",
        "initial_lr       = 1e-2\n",
        "\n",
        "optimizer        = 'Adam'\n",
        "criterion1       = 'contrastive_loss'\n",
        "criterion2       = 'contrastive_loss'\n",
        "\n",
        "scheduler        = 'ExponentialLR'\n",
        "scheduler_params = {'gamma':0.98}\n",
        "ann_epoch        = 500\n",
        "\n",
        "contrastive      = True\n",
        "tau              = 0.05"
      ]
    },
    {
      "cell_type": "code",
      "execution_count": 10,
      "id": "861e682f-cde3-4571-91fa-658b8fb37952",
      "metadata": {
        "id": "861e682f-cde3-4571-91fa-658b8fb37952"
      },
      "outputs": [],
      "source": [
        "general_params      = {'input_c': input_c, 'input_dim': input_dim, 'latent_dim': latent_dim, 'encoder_type': encoder_type, 'decoder_type': decoder_type, 'dim': dim, 'contrastive':contrastive, 'hidden_dim':hidden_dim, 'tau': tau}\n",
        "fc_network_params   = {'n_layers': n_layers, 'out_sizes': out_sizes,'activations': activations, 'spec_norm': spec_norm, 'dropout_rate':dropout_rate, \\\n",
        "                       'layer_norm': layer_norm, 'affine': affine, 'final_sigmoid': final_sigmoid, 'bias':bias}\n",
        "training_params     = {'batchsize': batchsize, 'initial_lr': initial_lr, 'optimizer': optimizer, 'criterion1': criterion1, 'criterion2': criterion2,\n",
        "                       'scheduler': scheduler, 'scheduler_params':scheduler_params, 'ann_epoch': ann_epoch, 'batchsize_valid': batchsize_valid}\n",
        "data_params         = {'dataset':dataset, 'loc': loc}"
      ]
    },
    {
      "cell_type": "code",
      "execution_count": 11,
      "id": "7297f7af-b441-41d1-9523-bb55825f0880",
      "metadata": {
        "id": "7297f7af-b441-41d1-9523-bb55825f0880"
      },
      "outputs": [],
      "source": [
        "torch.manual_seed(SEED)\n",
        "np.random.seed(SEED)"
      ]
    },
    {
      "cell_type": "markdown",
      "id": "8a15e150-b672-4182-bbfe-d4f28110f169",
      "metadata": {
        "id": "8a15e150-b672-4182-bbfe-d4f28110f169"
      },
      "source": [
        "## Step 2: Set up and train the autoencoder"
      ]
    },
    {
      "cell_type": "code",
      "execution_count": 12,
      "id": "3fb34b69-8954-4984-b941-61d49252ccc9",
      "metadata": {
        "colab": {
          "base_uri": "https://localhost:8080/"
        },
        "id": "3fb34b69-8954-4984-b941-61d49252ccc9",
        "outputId": "6c637903-69a7-417e-cc87-488a9f09bf8e"
      },
      "outputs": [
        {
          "output_type": "stream",
          "name": "stdout",
          "text": [
            "(100000, 1000, 1) 100000\n",
            "(100000, 1, 1000)\n",
            "(30000, 1000, 1) 30000\n",
            "(30000, 1, 1000)\n"
          ]
        }
      ],
      "source": [
        "AE1 = AE.Autoencoder(general_params,data_params,fc_network_params, fc_network_params, training_params, device, tt)"
      ]
    },
    {
      "cell_type": "code",
      "execution_count": 13,
      "id": "de487e60-7c9e-40a2-8f7b-2f073e9c9dd0",
      "metadata": {
        "id": "de487e60-7c9e-40a2-8f7b-2f073e9c9dd0"
      },
      "outputs": [],
      "source": [
        "test_sample = next(iter(AE1.valid_loader))"
      ]
    },
    {
      "cell_type": "code",
      "source": [
        "plt.plot(np.squeeze(test_sample[0][0]))"
      ],
      "metadata": {
        "id": "DT0UCE1xJJ27",
        "outputId": "cfbfdc61-034a-45cf-e640-e0810375afb2",
        "colab": {
          "base_uri": "https://localhost:8080/",
          "height": 282
        }
      },
      "id": "DT0UCE1xJJ27",
      "execution_count": 14,
      "outputs": [
        {
          "output_type": "execute_result",
          "data": {
            "text/plain": [
              "[<matplotlib.lines.Line2D at 0x7fc3b6d82f50>]"
            ]
          },
          "metadata": {},
          "execution_count": 14
        },
        {
          "output_type": "display_data",
          "data": {
            "text/plain": [
              "<Figure size 432x288 with 1 Axes>"
            ],
            "image/png": "[encoded data removed]"
          },
          "metadata": {
            "needs_background": "light"
          }
        }
      ]
    },
    {
      "cell_type": "code",
      "source": [
        "len(test_sample)"
      ],
      "metadata": {
        "id": "inAK5ag6CYHA",
        "outputId": "7c0abd19-acbb-4216-ef2b-07207e845741",
        "colab": {
          "base_uri": "https://localhost:8080/"
        }
      },
      "id": "inAK5ag6CYHA",
      "execution_count": 15,
      "outputs": [
        {
          "output_type": "execute_result",
          "data": {
            "text/plain": [
              "2"
            ]
          },
          "metadata": {},
          "execution_count": 15
        }
      ]
    },
    {
      "cell_type": "code",
      "execution_count": 16,
      "id": "529cc63d-2a66-43bc-9762-e596e54b3a51",
      "metadata": {
        "colab": {
          "base_uri": "https://localhost:8080/"
        },
        "id": "529cc63d-2a66-43bc-9762-e596e54b3a51",
        "outputId": "49297f1b-47c7-4ef6-e6fb-1f9d872bda92"
      },
      "outputs": [
        {
          "output_type": "stream",
          "name": "stdout",
          "text": [
            "----------------------------------------------------------------\n",
            "        Layer (type)               Output Shape         Param #\n",
            "================================================================\n",
            "           Flatten-1                 [-1, 1000]               0\n",
            "            Linear-2                  [-1, 256]         256,256\n",
            "              ReLU-3                  [-1, 256]               0\n",
            "           Dropout-4                  [-1, 256]               0\n",
            "            Linear-5                    [-1, 8]           2,056\n",
            "         FCEncoder-6                    [-1, 8]               0\n",
            "              ReLU-7                    [-1, 8]               0\n",
            "            Linear-8                    [-1, 6]              54\n",
            "              ReLU-9                    [-1, 6]               0\n",
            "           Linear-10                    [-1, 4]              28\n",
            "================================================================\n",
            "Total params: 258,394\n",
            "Trainable params: 258,394\n",
            "Non-trainable params: 0\n",
            "----------------------------------------------------------------\n",
            "Input size (MB): 0.00\n",
            "Forward/backward pass size (MB): 0.01\n",
            "Params size (MB): 0.99\n",
            "Estimated Total Size (MB): 1.00\n",
            "----------------------------------------------------------------\n"
          ]
        }
      ],
      "source": [
        "if dim =='1D':\n",
        "    summary(AE1, (input_c,input_dim))\n",
        "else:\n",
        "    summary(AE1, (input_c, input_dim, input_dim))"
      ]
    },
    {
      "cell_type": "code",
      "execution_count": 17,
      "id": "27f0ba1b-aaa9-4cb8-930e-ddbd06051ab8",
      "metadata": {
        "colab": {
          "base_uri": "https://localhost:8080/"
        },
        "id": "27f0ba1b-aaa9-4cb8-930e-ddbd06051ab8",
        "outputId": "7b355618-9696-4985-a7a5-4f13a3a53fbe"
      },
      "outputs": [
        {
          "output_type": "stream",
          "name": "stdout",
          "text": [
            "epoch: 0, training loss: 1.2790e+00, validation loss: 9.0407e-01, learning rate: 9.8000e-03\n",
            "epoch: 1, training loss: 9.4470e-01, validation loss: 9.2593e-01, learning rate: 9.6040e-03\n",
            "epoch: 2, training loss: 8.9559e-01, validation loss: 9.8050e-01, learning rate: 9.4119e-03\n",
            "epoch: 3, training loss: 8.7382e-01, validation loss: 8.5107e-01, learning rate: 9.2237e-03\n",
            "epoch: 4, training loss: 8.6274e-01, validation loss: 1.0013e+00, learning rate: 9.0392e-03\n",
            "epoch: 5, training loss: 8.5629e-01, validation loss: 8.0507e-01, learning rate: 8.8584e-03\n",
            "epoch: 6, training loss: 8.4628e-01, validation loss: 6.5924e-01, learning rate: 8.6813e-03\n",
            "epoch: 7, training loss: 8.4233e-01, validation loss: 9.4444e-01, learning rate: 8.5076e-03\n",
            "epoch: 8, training loss: 8.4076e-01, validation loss: 8.2057e-01, learning rate: 8.3375e-03\n",
            "epoch: 9, training loss: 8.3144e-01, validation loss: 8.7395e-01, learning rate: 8.1707e-03\n"
          ]
        }
      ],
      "source": [
        "train_loss, valid_loss = AE1.train(nepochs)"
      ]
    },
    {
      "cell_type": "code",
      "execution_count": 18,
      "id": "3858f4c6-67cd-4c59-b2b7-eb42fb7ebed8",
      "metadata": {
        "colab": {
          "base_uri": "https://localhost:8080/",
          "height": 299
        },
        "id": "3858f4c6-67cd-4c59-b2b7-eb42fb7ebed8",
        "outputId": "b2ded31f-e543-44c9-8f32-54397ca23bb2"
      },
      "outputs": [
        {
          "output_type": "display_data",
          "data": {
            "text/plain": [
              "<Figure size 432x288 with 1 Axes>"
            ],
            "image/png": "[encoded data removed]"
          },
          "metadata": {
            "needs_background": "light"
          }
        }
      ],
      "source": [
        "plt.figure()\n",
        "plt.title('Contrastive Learning Training',fontsize=14)\n",
        "plt.plot(train_loss, label='training')\n",
        "plt.plot(valid_loss, label='validation')\n",
        "plt.xlabel('epoch',fontsize=13)\n",
        "plt.ylabel('loss',fontsize=13)\n",
        "plt.legend(fontsize=13)\n",
        "plt.show()"
      ]
    },
    {
      "cell_type": "code",
      "source": [
        "### encoding network\n",
        "AE1.encoder"
      ],
      "metadata": {
        "id": "Y_NOAD1CJxHo",
        "outputId": "8815f068-7ae7-496d-d48c-544ab148f04e",
        "colab": {
          "base_uri": "https://localhost:8080/"
        }
      },
      "id": "Y_NOAD1CJxHo",
      "execution_count": 21,
      "outputs": [
        {
          "output_type": "execute_result",
          "data": {
            "text/plain": [
              "FCEncoder(\n",
              "  (model): ModuleList(\n",
              "    (0): Flatten(start_dim=1, end_dim=-1)\n",
              "    (1): Linear(in_features=1000, out_features=256, bias=True)\n",
              "    (2): ReLU()\n",
              "    (3): Dropout(p=0.0, inplace=False)\n",
              "    (4): Linear(in_features=256, out_features=8, bias=True)\n",
              "  )\n",
              "  (g): g_network(\n",
              "    (model): ModuleList(\n",
              "      (0): ReLU()\n",
              "      (1): Linear(in_features=8, out_features=6, bias=True)\n",
              "      (2): ReLU()\n",
              "      (3): Linear(in_features=6, out_features=4, bias=True)\n",
              "    )\n",
              "  )\n",
              ")"
            ]
          },
          "metadata": {},
          "execution_count": 21
        }
      ]
    },
    {
      "cell_type": "code",
      "source": [
        "encoded1= AE1(test_sample[0].to(AE1.device)).detach().cpu()"
      ],
      "metadata": {
        "id": "9DNJdJqmMaNg"
      },
      "id": "9DNJdJqmMaNg",
      "execution_count": 36,
      "outputs": []
    },
    {
      "cell_type": "code",
      "source": [
        "encoded2= AE1(test_sample[1].to(AE1.device)).detach().cpu()"
      ],
      "metadata": {
        "id": "MAeH-3LyNdwf"
      },
      "id": "MAeH-3LyNdwf",
      "execution_count": 37,
      "outputs": []
    },
    {
      "cell_type": "code",
      "source": [
        "plt.scatter(encoded1[:,0].cpu(),encoded1[:,1])\n",
        "plt.scatter(encoded2[:,0].cpu(),encoded2[:,1],marker='+')"
      ],
      "metadata": {
        "id": "p5cSDqojNoeY",
        "outputId": "ccd6bcec-26e9-49e3-8d6d-445d2f5def5c",
        "colab": {
          "base_uri": "https://localhost:8080/",
          "height": 282
        }
      },
      "id": "p5cSDqojNoeY",
      "execution_count": 40,
      "outputs": [
        {
          "output_type": "execute_result",
          "data": {
            "text/plain": [
              "<matplotlib.collections.PathCollection at 0x7fc3b3cc4f90>"
            ]
          },
          "metadata": {},
          "execution_count": 40
        },
        {
          "output_type": "display_data",
          "data": {
            "text/plain": [
              "<Figure size 432x288 with 1 Axes>"
            ],
            "image/png": "[encoded data removed]"
          },
          "metadata": {
            "needs_background": "light"
          }
        }
      ]
    },
    {
      "cell_type": "code",
      "source": [
        ""
      ],
      "metadata": {
        "id": "kgw8OJhjNv3P"
      },
      "id": "kgw8OJhjNv3P",
      "execution_count": null,
      "outputs": []
    }
  ],
  "metadata": {
    "kernelspec": {
      "display_name": "pytorch",
      "language": "python",
      "name": "pytorch"
    },
    "language_info": {
      "codemirror_mode": {
        "name": "ipython",
        "version": 3
      },
      "file_extension": ".py",
      "mimetype": "text/x-python",
      "name": "python",
      "nbconvert_exporter": "python",
      "pygments_lexer": "ipython3",
      "version": "3.7.10"
    },
    "colab": {
      "name": "ContrastiveLearning.ipynb",
      "provenance": []
    },
    "accelerator": "GPU"
  },
  "nbformat": 4,
  "nbformat_minor": 5
}