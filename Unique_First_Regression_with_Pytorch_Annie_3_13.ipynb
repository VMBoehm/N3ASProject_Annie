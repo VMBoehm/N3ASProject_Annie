{
  "nbformat": 4,
  "nbformat_minor": 0,
  "metadata": {
    "colab": {
      "name": "Unique First Regression with Pytorch - Annie 3/2.ipynb",
      "provenance": [],
      "include_colab_link": true
    },
    "kernelspec": {
      "name": "python3",
      "display_name": "Python 3"
    },
    "language_info": {
      "name": "python"
    },
    "accelerator": "GPU"
  },
  "cells": [
    {
      "cell_type": "markdown",
      "metadata": {
        "id": "view-in-github",
        "colab_type": "text"
      },
      "source": [
        "<a href=\"https://colab.research.google.com/github/VMBoehm/N3ASProject_Annie/blob/main/Unique_First_Regression_with_Pytorch_Annie_3_13.ipynb\" target=\"_parent\"><img src=\"https://colab.research.google.com/assets/colab-badge.svg\" alt=\"Open In Colab\"/></a>"
      ]
    },
    {
      "cell_type": "code",
      "execution_count": 51,
      "metadata": {
        "id": "Ba4e0yulEKMw"
      },
      "outputs": [],
      "source": [
        "# add nonlinearity\n",
        "import numpy as np\n",
        "import matplotlib.pyplot as plt\n",
        "from sklearn.model_selection import train_test_split\n",
        "from sklearn.linear_model import LinearRegression as lr"
      ]
    },
    {
      "cell_type": "code",
      "source": [
        "import torch\n",
        "from torch import nn\n",
        "from torch.utils.data import DataLoader\n",
        "import sklearn\n",
        "from sklearn.datasets import make_regression\n",
        "from sklearn.preprocessing import StandardScaler\n",
        "from sklearn.datasets import make_friedman1"
      ],
      "metadata": {
        "id": "SO53T6AvEaok"
      },
      "execution_count": 52,
      "outputs": []
    },
    {
      "cell_type": "code",
      "source": [
        "  # Set fixed random number seed\n",
        "  torch.manual_seed(42)\n",
        "  \n",
        "  # Load California dataset\n",
        "  # TASK: what are the X and y values in this dataset?\n",
        "        # The x value represents the factors causing housing price, and the y-value represents the housing price.\n",
        "  #X = sklearn.datasets.make_regression(n_samples=10000, n_features=50, n_informative=30, n_targets=1, bias=0.0, \n",
        "    #effective_rank=None, tail_strength=0.5, noise=0.0, shuffle=True, coef=False, random_state=None)\n",
        "  X, y = sklearn.datasets.load_iris(return_X_y=True)\n",
        "  #make_blobs(n_samples=10000, n_features=50)\n",
        "  #X, y = X[0], X[1] \n",
        "  print(X.shape,y.shape)  \n",
        "    \n",
        "  #print(X[0].shape,X[1].shape,len(X),type(X[0]))\n",
        "  #X, y = random_data(return_X_y=True), not a parameter of random_data\n",
        "\n"
      ],
      "metadata": {
        "id": "YeDaiLscFGzx",
        "colab": {
          "base_uri": "https://localhost:8080/"
        },
        "outputId": "d93cbb22-8f67-4caa-ca83-36d535383e97"
      },
      "execution_count": 53,
      "outputs": [
        {
          "output_type": "stream",
          "name": "stdout",
          "text": [
            "(150, 4) (150,)\n"
          ]
        }
      ]
    },
    {
      "cell_type": "code",
      "source": [
        "# TASK: What is a class is python? What's it used for? How does inheritance work in python?\n",
        "      # A class is a group of code that is a blueprint for creating an object. Each has certain features and methods that make it unique.\n",
        "# TASK: Find out what StandardScaler does. \n",
        "      # It's a method that takes a value, subtracts it from the mean, and divides by the standard deviation, also called scaling to unit variance\n",
        "class RandomDataset(torch.utils.data.Dataset):\n",
        "  '''\n",
        "  Prepare the California dataset for regression\n",
        "  '''\n",
        "\n",
        "  def __init__(self, X, y, scaler, scale_data=True):\n",
        "    if not torch.is_tensor(X) and not torch.is_tensor(y):\n",
        "      # Apply scaling if necessary\n",
        "      if scale_data:\n",
        "          X = scaler.transform(X)\n",
        "      self.X = torch.from_numpy(X)\n",
        "      self.y = torch.from_numpy(y)\n",
        "\n",
        "  def __len__(self):\n",
        "      return len(self.X)\n",
        "\n",
        "  def __getitem__(self, i):\n",
        "      return self.X[i], self.y[i]"
      ],
      "metadata": {
        "id": "rIarM2UWEbpU"
      },
      "execution_count": 54,
      "outputs": []
    },
    {
      "cell_type": "code",
      "source": [
        "class MLP(nn.Module):\n",
        "  '''\n",
        "    Multilayer Perceptron for regression.\n",
        "  '''\n",
        "  def __init__(self):\n",
        "    super().__init__()\n",
        "    # TASK: how many parameters does this network have?\n",
        "          # (13*64) + (64*32) + (32*1) = 2912 parameters\n",
        "    self.layers = nn.Sequential(\n",
        "      nn.Linear(4, 50), \n",
        "      nn.ReLU(),\n",
        "      nn.Linear(50, 64), # Changed because of dimension\n",
        "      nn.ReLU(),\n",
        "      nn.Linear(64, 32),\n",
        "      nn.ReLU(),\n",
        "      nn.Linear(32, 1)\n",
        "    )\n",
        "\n",
        "\n",
        "  def forward(self, x):\n",
        "    '''\n",
        "      Forward pass\n",
        "    '''\n",
        "    return self.layers(x)"
      ],
      "metadata": {
        "id": "UtSRIGMOE2s0"
      },
      "execution_count": 55,
      "outputs": []
    },
    {
      "cell_type": "code",
      "source": [
        "# Prepare California dataset\n",
        "\n",
        "X_train, X_test, y_train, y_test = train_test_split(X, y,\n",
        "    test_size=0.10) # random state=?\n",
        "\n",
        "  # Use the same function above for the validation set\n",
        "X_train, X_val, y_train, y_val = train_test_split(X_train, y_train, \n",
        "    test_size=2/9, random_state= 8) # 2/9 x 0.9 = 0.2\n",
        "ssc = StandardScaler().fit(X_train)\n",
        "dataset_train = RandomDataset(X_train, y_train, ssc)\n",
        "dataset_valid = RandomDataset(X_val, y_val, ssc)\n",
        "\n",
        "print(np.shape(X_train))\n",
        "\n",
        "trainloader = torch.utils.data.DataLoader(dataset_train, batch_size=10, shuffle=True, num_workers=1)\n",
        "validloader = torch.utils.data.DataLoader(dataset_valid, batch_size=len(dataset_valid), shuffle=True, num_workers=1)\n"
      ],
      "metadata": {
        "id": "45JDMNE0FAH_",
        "colab": {
          "base_uri": "https://localhost:8080/"
        },
        "outputId": "5b9afe80-98d6-4fdb-9ba9-134d6bbac440"
      },
      "execution_count": 56,
      "outputs": [
        {
          "output_type": "stream",
          "name": "stdout",
          "text": [
            "(105, 4)\n"
          ]
        }
      ]
    },
    {
      "cell_type": "code",
      "source": [
        "# Initialize the MLP\n",
        "mlp = MLP()\n",
        "\n",
        "# Define the loss function and optimizer\n",
        "# TASK: what is L1 loss? what other loss could we use?\n",
        "      # L1 loss is a function that determines the mean absolute error between the value and the target. \n",
        "      # You could also use MSELoss to find the mean squared difference between the value and the target.\n",
        "loss_function = nn.MSELoss()\n",
        "optimizer = torch.optim.Adam(mlp.parameters(), lr=1e-3)"
      ],
      "metadata": {
        "id": "_KcWPhtXFptR"
      },
      "execution_count": 57,
      "outputs": []
    },
    {
      "cell_type": "code",
      "source": [
        "# Run the training loop\n",
        "current_loss = []\n",
        "for epoch in range(0, 10): # 5 epochs at maximum\n",
        "  \n",
        "  # Print epoch\n",
        "  print(f'Starting epoch {epoch+1}')\n",
        "  \n",
        "\n",
        "  \n",
        "  # Iterate over the DataLoader for training data\n",
        "  for i, data in enumerate(trainloader, 0):\n",
        "    \n",
        "    # Get and prepare inputs\n",
        "    inputs, targets = data\n",
        "    inputs, targets = inputs.float(), targets.float()\n",
        "    targets = targets.reshape((targets.shape[0], 1))\n",
        "    \n",
        "    # Zero the gradients\n",
        "    optimizer.zero_grad()\n",
        "    \n",
        "    # Perform forward pass\n",
        "    outputs = mlp(inputs)\n",
        "    \n",
        "    # Compute loss\n",
        "    loss = loss_function(outputs, targets)\n",
        "    \n",
        "    # Perform backward pass\n",
        "    loss.backward()\n",
        "    \n",
        "    # Perform optimization\n",
        "    optimizer.step()\n",
        "    \n",
        "    # Print statistics\n",
        "    current_loss += [loss.item()]\n",
        "    if i % 10 == 0:\n",
        "        print('Loss after mini-batch %5d: %.3f' %\n",
        "              (i + 1, current_loss[-1]))\n",
        "\n",
        "  # Iterate over the DataLoader for validation data\n",
        "  for i, data in enumerate(validloader, 0):\n",
        "    \n",
        "    # Get and prepare inputs\n",
        "    inputs, targets = data\n",
        "    inputs, targets = inputs.float(), targets.float()\n",
        "    targets = targets.reshape((targets.shape[0], 1))\n",
        "    \n",
        "    # Zero the gradients\n",
        "    optimizer.zero_grad()\n",
        "    with torch.no_grad():\n",
        "    # Perform forward pass\n",
        "      outputs = mlp(inputs)\n",
        "    \n",
        "    # Compute loss\n",
        "      loss = loss_function(outputs, targets)\n",
        "    \n",
        "    # Print statistics\n",
        "  print(\"validation loss:\",loss.item())\n",
        "# Process is complete.\n",
        "print('Training process has finished.')"
      ],
      "metadata": {
        "colab": {
          "base_uri": "https://localhost:8080/"
        },
        "id": "3WwWrz3NGGN-",
        "outputId": "09549559-ad03-4e32-f25e-69ad81d1dc69"
      },
      "execution_count": 58,
      "outputs": [
        {
          "output_type": "stream",
          "name": "stdout",
          "text": [
            "Starting epoch 1\n",
            "Loss after mini-batch     1: 1.420\n",
            "Loss after mini-batch    11: 1.006\n",
            "validation loss: 1.5075994729995728\n",
            "Starting epoch 2\n",
            "Loss after mini-batch     1: 0.430\n",
            "Loss after mini-batch    11: 0.696\n",
            "validation loss: 0.7892901301383972\n",
            "Starting epoch 3\n",
            "Loss after mini-batch     1: 0.579\n",
            "Loss after mini-batch    11: 0.118\n",
            "validation loss: 0.1607157289981842\n",
            "Starting epoch 4\n",
            "Loss after mini-batch     1: 0.053\n",
            "Loss after mini-batch    11: 0.208\n",
            "validation loss: 0.085051991045475\n",
            "Starting epoch 5\n",
            "Loss after mini-batch     1: 0.078\n",
            "Loss after mini-batch    11: 0.065\n",
            "validation loss: 0.07492324709892273\n",
            "Starting epoch 6\n",
            "Loss after mini-batch     1: 0.015\n",
            "Loss after mini-batch    11: 0.028\n",
            "validation loss: 0.08055748045444489\n",
            "Starting epoch 7\n",
            "Loss after mini-batch     1: 0.025\n",
            "Loss after mini-batch    11: 0.038\n",
            "validation loss: 0.05559907481074333\n",
            "Starting epoch 8\n",
            "Loss after mini-batch     1: 0.076\n",
            "Loss after mini-batch    11: 0.014\n",
            "validation loss: 0.0459759458899498\n",
            "Starting epoch 9\n",
            "Loss after mini-batch     1: 0.033\n",
            "Loss after mini-batch    11: 0.045\n",
            "validation loss: 0.04965166002511978\n",
            "Starting epoch 10\n",
            "Loss after mini-batch     1: 0.098\n",
            "Loss after mini-batch    11: 0.039\n",
            "validation loss: 0.04469532519578934\n",
            "Training process has finished.\n"
          ]
        }
      ]
    },
    {
      "cell_type": "code",
      "source": [
        "#TASK: how well does this model do?\n",
        "      # The loss seems to vary from around 0.04 to 0.4, but considering that this is out of 500 values, that seems fairly accurate.\n",
        "# What happens when you change the network architecture? (try different modifications, e.g.: more layers/less layers; wider network; other activation functions). \n",
        "      # I first tried running it a second time, and one of the loss numbers was 0.032.\n",
        "      # I tried changing (13, 64) to (10,64), and it said you cannot multiply the numbers correctly. The same happened after deleting a layer.\n",
        "      # After changing the numbers back, the loss values went up again.\n",
        "      # Changing lr=e-4 to e-3 made the loss values decrease as the epochs increased\n",
        "# What happens when you change the loss function?\n",
        "      # MSELoss gives much larger loss numbers.\n",
        "      # CrossEntropyLoss gives values of 0.\n",
        "# Can you think of ways to visualize your network performance? (plots)\n",
        "      # You could create a plot containing all the values from each epoch as the x values and all the loss values as y coordinates.\n",
        "# Can you split the data into training, validation and test set? With the validation set you can check for overfitting while you are training.\n",
        "# The test set is used for your final model evaluation.\n",
        "      # The training set is the boston data, and the validation set is the california data. I'm not sure about the test value though.\n",
        "\n",
        "      # \n",
        "\n"
      ],
      "metadata": {
        "id": "JnRFzTa_GSOo"
      },
      "execution_count": 59,
      "outputs": []
    },
    {
      "cell_type": "code",
      "source": [
        "# Test set plot\n",
        "plt.figure(figsize=(12, 8))\n",
        "\n",
        "with torch.no_grad():\n",
        "  predictions_test = mlp(torch.from_numpy(ssc.transform(X_test)).float())\n",
        "\n",
        "with torch.no_grad():\n",
        "  predictions_train = mlp(torch.from_numpy(ssc.transform(X_train)).float())\n",
        "\n",
        "plt.scatter(y_test, predictions_test)\n",
        "#plt.plot(np.arange(0,6))\n",
        "plt.show()\n",
        "\n",
        "plt.figure(figsize=(12, 8))\n",
        "#plt.plot(np.arange(0,6))\n",
        "plt.scatter(y_train, predictions_train)\n",
        "plt.show()\n",
        "\n",
        "plt.figure(figsize=(12, 8))\n",
        "plt.plot(current_loss)\n",
        "#print(loss_function(predictions_test,torch.from_numpy(y_test)))\n",
        "plt.show()"
      ],
      "metadata": {
        "colab": {
          "base_uri": "https://localhost:8080/",
          "height": 1000
        },
        "id": "utRN-Int4Wh_",
        "outputId": "2488627d-daf8-48db-eeb9-891958d6c661"
      },
      "execution_count": 60,
      "outputs": [
        {
          "output_type": "display_data",
          "data": {
            "text/plain": [
              "<Figure size 864x576 with 1 Axes>"
            ],
            "image/png": "[encoded data removed]"
          },
          "metadata": {
            "needs_background": "light"
          }
        },
        {
          "output_type": "display_data",
          "data": {
            "text/plain": [
              "<Figure size 864x576 with 1 Axes>"
            ],
            "image/png": "[encoded data removed]"
          },
          "metadata": {
            "needs_background": "light"
          }
        },
        {
          "output_type": "display_data",
          "data": {
            "text/plain": [
              "<Figure size 864x576 with 1 Axes>"
            ],
            "image/png": "[encoded data removed]"
          },
          "metadata": {
            "needs_background": "light"
          }
        }
      ]
    }
  ]
}